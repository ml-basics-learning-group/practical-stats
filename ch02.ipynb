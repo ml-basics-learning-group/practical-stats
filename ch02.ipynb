{
 "cells": [
  {
   "cell_type": "code",
   "execution_count": 1,
   "id": "13a728bd-b678-4227-ac0e-7bce87062833",
   "metadata": {},
   "outputs": [],
   "source": [
    "import pandas as pd\n",
    "from scipy.stats import trim_mean\n",
    "from scipy import stats\n",
    "import numpy as np\n",
    "import wquantiles as wq\n",
    "import statsmodels.api as sm\n",
    "import seaborn as sns\n",
    "from scipy.stats import norm\n",
    "import matplotlib.pyplot as plt\n",
    "#import pylab as py"
   ]
  },
  {
   "cell_type": "markdown",
   "id": "eafe268f-90c6-4a09-ae98-a2ed3a01695f",
   "metadata": {},
   "source": [
    "### Sampling distribution of a Statistic"
   ]
  },
  {
   "cell_type": "code",
   "execution_count": 2,
   "id": "3cc5b53f-66f7-44e8-932c-3666b8773f25",
   "metadata": {},
   "outputs": [],
   "source": [
    "loans_income = pd.read_csv('loans_income.csv')"
   ]
  },
  {
   "cell_type": "code",
   "execution_count": 3,
   "id": "707dd723-c319-4d3e-91a9-1adca8f093db",
   "metadata": {},
   "outputs": [],
   "source": [
    "sample_data = pd.DataFrame({'income': [loans_income.sample(1000)], 'type': 'Data'})\n",
    "sample_mean_05 = pd.DataFrame({\n",
    "    'income': [loans_income.sample(5).mean() for _ in range(1000)],\n",
    "    'type': 'Mean of 5',\n",
    "})\n",
    "sample_mean_20 = pd.DataFrame({\n",
    "    'income': [loans_income.sample(10).mean() for _ in range(1000)],\n",
    "    'type': 'Mean of 20',\n",
    "})\n",
    "results = pd.concat([sample_data, sample_mean_05, sample_mean_20])"
   ]
  },
  {
   "cell_type": "code",
   "execution_count": 4,
   "id": "404b2f0b-2915-4837-9171-d18a4a55adeb",
   "metadata": {},
   "outputs": [
    {
     "data": {
      "text/html": [
       "<div>\n",
       "<style scoped>\n",
       "    .dataframe tbody tr th:only-of-type {\n",
       "        vertical-align: middle;\n",
       "    }\n",
       "\n",
       "    .dataframe tbody tr th {\n",
       "        vertical-align: top;\n",
       "    }\n",
       "\n",
       "    .dataframe thead th {\n",
       "        text-align: right;\n",
       "    }\n",
       "</style>\n",
       "<table border=\"1\" class=\"dataframe\">\n",
       "  <thead>\n",
       "    <tr style=\"text-align: right;\">\n",
       "      <th></th>\n",
       "      <th>income</th>\n",
       "      <th>type</th>\n",
       "    </tr>\n",
       "  </thead>\n",
       "  <tbody>\n",
       "    <tr>\n",
       "      <th>0</th>\n",
       "      <td>x\n",
       "18333   65000\n",
       "38297   40000\n",
       "4019...</td>\n",
       "      <td>Data</td>\n",
       "    </tr>\n",
       "  </tbody>\n",
       "</table>\n",
       "</div>"
      ],
      "text/plain": [
       "                                              income  type\n",
       "0              x\n",
       "18333   65000\n",
       "38297   40000\n",
       "4019...  Data"
      ]
     },
     "execution_count": 4,
     "metadata": {},
     "output_type": "execute_result"
    }
   ],
   "source": [
    "sample_data"
   ]
  },
  {
   "cell_type": "code",
   "execution_count": 5,
   "id": "88a5ea0f-ac67-4d27-a901-aa62b9f71c46",
   "metadata": {},
   "outputs": [
    {
     "data": {
      "text/plain": [
       "pandas.core.frame.DataFrame"
      ]
     },
     "execution_count": 5,
     "metadata": {},
     "output_type": "execute_result"
    }
   ],
   "source": [
    "type(loans_income)"
   ]
  },
  {
   "cell_type": "code",
   "execution_count": 6,
   "id": "0ee7222f-90ac-4e0d-95ff-87ad3e04ee01",
   "metadata": {},
   "outputs": [
    {
     "data": {
      "text/html": [
       "<div>\n",
       "<style scoped>\n",
       "    .dataframe tbody tr th:only-of-type {\n",
       "        vertical-align: middle;\n",
       "    }\n",
       "\n",
       "    .dataframe tbody tr th {\n",
       "        vertical-align: top;\n",
       "    }\n",
       "\n",
       "    .dataframe thead th {\n",
       "        text-align: right;\n",
       "    }\n",
       "</style>\n",
       "<table border=\"1\" class=\"dataframe\">\n",
       "  <thead>\n",
       "    <tr style=\"text-align: right;\">\n",
       "      <th></th>\n",
       "      <th>x</th>\n",
       "    </tr>\n",
       "  </thead>\n",
       "  <tbody>\n",
       "    <tr>\n",
       "      <th>0</th>\n",
       "      <td>67000</td>\n",
       "    </tr>\n",
       "    <tr>\n",
       "      <th>1</th>\n",
       "      <td>52000</td>\n",
       "    </tr>\n",
       "    <tr>\n",
       "      <th>2</th>\n",
       "      <td>100000</td>\n",
       "    </tr>\n",
       "    <tr>\n",
       "      <th>3</th>\n",
       "      <td>78762</td>\n",
       "    </tr>\n",
       "    <tr>\n",
       "      <th>4</th>\n",
       "      <td>37041</td>\n",
       "    </tr>\n",
       "    <tr>\n",
       "      <th>...</th>\n",
       "      <td>...</td>\n",
       "    </tr>\n",
       "    <tr>\n",
       "      <th>49995</th>\n",
       "      <td>40000</td>\n",
       "    </tr>\n",
       "    <tr>\n",
       "      <th>49996</th>\n",
       "      <td>54000</td>\n",
       "    </tr>\n",
       "    <tr>\n",
       "      <th>49997</th>\n",
       "      <td>50000</td>\n",
       "    </tr>\n",
       "    <tr>\n",
       "      <th>49998</th>\n",
       "      <td>82000</td>\n",
       "    </tr>\n",
       "    <tr>\n",
       "      <th>49999</th>\n",
       "      <td>70000</td>\n",
       "    </tr>\n",
       "  </tbody>\n",
       "</table>\n",
       "<p>50000 rows × 1 columns</p>\n",
       "</div>"
      ],
      "text/plain": [
       "            x\n",
       "0       67000\n",
       "1       52000\n",
       "2      100000\n",
       "3       78762\n",
       "4       37041\n",
       "...       ...\n",
       "49995   40000\n",
       "49996   54000\n",
       "49997   50000\n",
       "49998   82000\n",
       "49999   70000\n",
       "\n",
       "[50000 rows x 1 columns]"
      ]
     },
     "execution_count": 6,
     "metadata": {},
     "output_type": "execute_result"
    }
   ],
   "source": [
    "loans_income"
   ]
  },
  {
   "cell_type": "markdown",
   "id": "0ce7b36d-d78c-46b2-b1ed-2b4b4ac7dbf8",
   "metadata": {},
   "source": [
    "### Standard Normal and QQ-Plots"
   ]
  },
  {
   "cell_type": "markdown",
   "id": "289fadb1-e1cb-433a-82d0-40117a7740f1",
   "metadata": {},
   "source": [
    "#### Probability plot"
   ]
  },
  {
   "cell_type": "code",
   "execution_count": 13,
   "id": "ecb0d4c9-0d54-4595-8a77-a78dc2b976c3",
   "metadata": {},
   "outputs": [
    {
     "data": {
      "image/png": "[encoded data removed]",
      "text/plain": [
       "<Figure size 288x288 with 1 Axes>"
      ]
     },
     "metadata": {
      "needs_background": "light"
     },
     "output_type": "display_data"
    }
   ],
   "source": [
    "np.random.seed(2)\n",
    "fig, ax = plt.subplots(figsize = (4, 4))\n",
    "norm_sample = stats.norm.rvs(size = 100)\n",
    "stats.probplot(norm_sample, plot = ax);"
   ]
  },
  {
   "cell_type": "markdown",
   "id": "f06de9f2-d716-4aa9-998d-1ef0a0fa596a",
   "metadata": {},
   "source": [
    "#### Quantile quantile plot"
   ]
  },
  {
   "cell_type": "code",
   "execution_count": 20,
   "id": "6d2563ba-43c0-43aa-a8b7-62911b643054",
   "metadata": {},
   "outputs": [
    {
     "name": "stderr",
     "output_type": "stream",
     "text": [
      "c:\\users\\henrikh\\appdata\\local\\programs\\python\\python39\\lib\\site-packages\\statsmodels\\graphics\\gofplots.py:993: UserWarning: marker is redundantly defined by the 'marker' keyword argument and the fmt string \"bo\" (-> marker='o'). The keyword argument will take precedence.\n",
      "  ax.plot(x, y, fmt, **plot_style)\n"
     ]
    },
    {
     "data": {
      "image/png": "[encoded data removed]",
      "text/plain": [
       "<Figure size 432x288 with 1 Axes>"
      ]
     },
     "metadata": {
      "needs_background": "light"
     },
     "output_type": "display_data"
    }
   ],
   "source": [
    "np.random.seed(2)\n",
    "data_points = np.random.normal(0, 1, 100)\n",
    "sm.qqplot(data_points, line = '45', loc = 0, scale = 1)\n",
    "plt.show()"
   ]
  },
  {
   "cell_type": "markdown",
   "id": "71c2b93b-77ab-42d3-a74c-695975b2a235",
   "metadata": {},
   "source": [
    "### Long-Tailed Distributions"
   ]
  },
  {
   "cell_type": "code",
   "execution_count": 9,
   "id": "8a79e179-6c0d-4502-8829-01aa4a57efa2",
   "metadata": {},
   "outputs": [
    {
     "data": {
      "image/png": "[encoded data removed]",
      "text/plain": [
       "<Figure size 288x288 with 1 Axes>"
      ]
     },
     "metadata": {
      "needs_background": "light"
     },
     "output_type": "display_data"
    }
   ],
   "source": [
    "sp500_px = pd.read_csv(\"sp500_data.csv\", delimiter = ',');\n",
    "nflx = sp500_px.NFLX # this automatically converts csv column data to numpy array\n",
    "nflx = np.diff(np.log(nflx[nflx>0]))\n",
    "nflx = np.log(nflx[nflx>0])\n",
    "fig, ax = plt.subplots(figsize = (4,4))\n",
    "stats.probplot(nflx, plot = ax);"
   ]
  },
  {
   "cell_type": "markdown",
   "id": "04b84b64-4350-487b-8d1a-56d2907d8537",
   "metadata": {},
   "source": [
    "#### Plot with only log"
   ]
  },
  {
   "cell_type": "code",
   "execution_count": 28,
   "id": "19620986-f6f9-4758-ac83-54cd4a366ea9",
   "metadata": {},
   "outputs": [
    {
     "data": {
      "text/plain": [
       "[<matplotlib.lines.Line2D at 0x1da8036d1f0>]"
      ]
     },
     "execution_count": 28,
     "metadata": {},
     "output_type": "execute_result"
    },
    {
     "data": {
      "image/png": "[encoded data removed]",
      "text/plain": [
       "<Figure size 432x288 with 1 Axes>"
      ]
     },
     "metadata": {
      "needs_background": "light"
     },
     "output_type": "display_data"
    }
   ],
   "source": [
    "nflx = sp500_px.NFLX # this automatically converts csv column data to numpy array\n",
    "nflx = np.log(nflx[nflx>0])\n",
    "plt.plot(nflx)"
   ]
  },
  {
   "cell_type": "markdown",
   "id": "bc02cdf8-7994-4c24-a707-5e34bd8d811f",
   "metadata": {},
   "source": [
    "#### Plot with diff(log)"
   ]
  },
  {
   "cell_type": "code",
   "execution_count": 32,
   "id": "060835e6-b039-4c82-aac2-1a1f475093ae",
   "metadata": {},
   "outputs": [
    {
     "data": {
      "text/plain": [
       "[<matplotlib.lines.Line2D at 0x1da80432130>]"
      ]
     },
     "execution_count": 32,
     "metadata": {},
     "output_type": "execute_result"
    },
    {
     "data": {
      "image/png": "[encoded data removed]",
      "text/plain": [
       "<Figure size 432x288 with 1 Axes>"
      ]
     },
     "metadata": {
      "needs_background": "light"
     },
     "output_type": "display_data"
    }
   ],
   "source": [
    "nflx = sp500_px.NFLX # this automatically converts csv column data to numpy array\n",
    "nflx = np.diff(np.log(nflx[nflx>0]))\n",
    "plt.plot(nflx)"
   ]
  },
  {
   "cell_type": "markdown",
   "id": "9fe6119f-18c1-4e4e-a869-f4c1d225553d",
   "metadata": {},
   "source": [
    "### Binomial distribution"
   ]
  },
  {
   "cell_type": "code",
   "execution_count": 33,
   "id": "aaf20c37-2dd3-4551-96bf-3f625f4d84ce",
   "metadata": {},
   "outputs": [
    {
     "data": {
      "text/plain": [
       "0.0729"
      ]
     },
     "execution_count": 33,
     "metadata": {},
     "output_type": "execute_result"
    }
   ],
   "source": [
    "stats.binom.pmf(2, n = 5, p = 0.1)"
   ]
  },
  {
   "cell_type": "code",
   "execution_count": 34,
   "id": "3bd55700-4963-4279-b001-c2aa1e295ff6",
   "metadata": {},
   "outputs": [
    {
     "data": {
      "text/plain": [
       "0.99144"
      ]
     },
     "execution_count": 34,
     "metadata": {},
     "output_type": "execute_result"
    }
   ],
   "source": [
    "stats.binom.cdf(2, n = 5, p = 0.1)"
   ]
  },
  {
   "cell_type": "code",
   "execution_count": null,
   "id": "54aa224d-aee5-4dbb-8dee-56769b0045bc",
   "metadata": {},
   "outputs": [],
   "source": []
  }
 ],
 "metadata": {
  "kernelspec": {
   "display_name": "Python 3 (ipykernel)",
   "language": "python",
   "name": "python3"
  },
  "language_info": {
   "codemirror_mode": {
    "name": "ipython",
    "version": 3
   },
   "file_extension": ".py",
   "mimetype": "text/x-python",
   "name": "python",
   "nbconvert_exporter": "python",
   "pygments_lexer": "ipython3",
   "version": "3.10.4"
  }
 },
 "nbformat": 4,
 "nbformat_minor": 5
}
